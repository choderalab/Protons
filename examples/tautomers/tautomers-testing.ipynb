{
 "cells": [
  {
   "cell_type": "code",
   "execution_count": 1,
   "metadata": {},
   "outputs": [],
   "source": [
    "%matplotlib inline\n",
    "import os, sys\n",
    "import lxml\n",
    "from io import StringIO\n",
    "from lxml import etree\n",
    "from simtk import unit\n",
    "import pickle\n",
    "import parmed as pm\n",
    "import simtk.openmm as mm\n",
    "import simtk.openmm.app as app\n",
    "from simtk.openmm.app import StateDataReporter\n",
    "import csv\n",
    "import numpy as np\n",
    "import matplotlib.pylab as plt\n",
    "import toml\n",
    "gaff_default = os.path.join(\"../data/gaff2.xml\")\n",
    "from openeye import oechem\n",
    "import openmoltools as omtff\n",
    "from openmoltools import forcefield_generators\n"
   ]
  },
  {
   "cell_type": "code",
   "execution_count": 2,
   "metadata": {},
   "outputs": [],
   "source": [
    "settings = toml.load(open('sb2.toml', \"r\"))\n",
    "settings['pH'] = 7.8"
   ]
  },
  {
   "cell_type": "code",
   "execution_count": 3,
   "metadata": {},
   "outputs": [],
   "source": [
    "def run_dynamics_with_openMM(sim, output_filepath, name, nr_of_steps):\n",
    "    # Set up the reporters to report energies and coordinates every 100 steps\n",
    "\n",
    "    print('Writing trajectory to: ', output_filepath)\n",
    "    print('as: ', name)\n",
    "    sim.reporters.append(\n",
    "        StateDataReporter(output_filepath + '/' + name + '.csv', 100, step=True, potentialEnergy=True,\n",
    "                          kineticEnergy=True, temperature=True,\n",
    "                          volume=True, density=True)\n",
    "        )\n",
    "    sim.reporters.append(app.DCDReporter(output_filepath + '/' + name + '.dcd', 100))\n",
    "\n",
    "    # Run dynamics\n",
    "    print('Running dynamics')\n",
    "    sim.step(int(nr_of_steps))\n",
    "\n",
    "\n",
    "# write out confs that are in save_confs list\n",
    "# and start vacuum md\n",
    "def create_hydrogen_definitions(\n",
    "    xmltree\n",
    "):\n",
    "    \"\"\"\n",
    "    Generates hydrogen definitions for a small molecule residue template.\n",
    "\n",
    "    \"\"\"\n",
    "    hydrogen_definitions_tree = etree.fromstring(\"<Residues/>\")\n",
    "    for residue in xmltree.xpath(\"Residues/Residue\"):\n",
    "        hydrogen_file_residue = etree.fromstring(\"<Residue/>\")\n",
    "        hydrogen_file_residue.set(\"name\", residue.get(\"name\"))\n",
    "        # enumerate hydrogens in this list\n",
    "        hydrogens = list()\n",
    "        # Loop through atoms to find all hydrogens\n",
    "        for bond in residue.xpath(\"Bond\"):\n",
    "            atomname1 = bond.get(\"atomName1\")\n",
    "            atomname2 = bond.get(\"atomName2\")\n",
    "            if 'H' in atomname1:\n",
    "                # H is the first, parent is the second atom\n",
    "                hydrogens.append(tuple([atomname1, atomname2]))\n",
    "            elif 'H' in atomname2:\n",
    "                # H is the second, parent is the first atom\n",
    "                hydrogens.append(tuple([atomname2, atomname1]))\n",
    "\n",
    "        # Loop through all hydrogens, and create definitions\n",
    "        for name, parent in hydrogens:\n",
    "            h_xml = etree.fromstring(\"<H/>\")\n",
    "            h_xml.set(\"name\", name)\n",
    "            h_xml.set(\"parent\", parent)\n",
    "            hydrogen_file_residue.append(h_xml)\n",
    "        hydrogen_definitions_tree.append(hydrogen_file_residue)\n",
    "    # Write output\n",
    "    return hydrogen_definitions_tree\n",
    "\n",
    "\n",
    "\n",
    "def create_bond_definitions(\n",
    "    inputfile: str,\n",
    "    residue_name : str = None\n",
    "    ):\n",
    "    \"\"\"\n",
    "    Generates bond definitions for a small molecule template to subsequently load \n",
    "    the bond definitions in the topology object. BE CAREFULL: The residue name \n",
    "    of the pdb file must match the residue name in the bxml file.\n",
    "\n",
    "    Parameters\n",
    "    ----------\n",
    "    inputfile - a forcefield XML file defined using Gaff atom types\n",
    "    \"\"\"\n",
    "\n",
    "    xmltree = etree.parse(\n",
    "        inputfile, etree.XMLParser(remove_blank_text=True, remove_comments=True)\n",
    "    )\n",
    "    # Output tree\n",
    "    bond_definitions_tree = etree.fromstring(\"<Residues/>\")\n",
    "    bonds = set()\n",
    "\n",
    "    for residue in xmltree.xpath(\"Residues/Residue\"):\n",
    "        # Loop through all bonds\n",
    "        bond_file_residue = etree.fromstring(\"<Residue/>\")\n",
    "        bond_file_residue.set(\"name\", f\"{residue_name}\")\n",
    "        for bond in residue.xpath(\"Bond\"):\n",
    "            atomname1 = bond.get(\"atomName1\")\n",
    "            atomname2 = bond.get(\"atomName2\")\n",
    "            if atomname1.startswith('H') or atomname2.startswith('H'):\n",
    "                continue\n",
    "            bonds.add(tuple([atomname1, atomname2]))\n",
    "        \n",
    "        for a1, a2 in bonds:\n",
    "            b_xml = etree.fromstring(\"<Bond/>\")\n",
    "            b_xml.set(\"from\", a1)\n",
    "            b_xml.set(\"to\", a2)\n",
    "            bond_file_residue.append(b_xml)\n",
    "        bond_definitions_tree.append(bond_file_residue)\n",
    "\n",
    "    return bond_definitions_tree\n"
   ]
  },
  {
   "cell_type": "code",
   "execution_count": 6,
   "metadata": {},
   "outputs": [
    {
     "name": "stdout",
     "output_type": "stream",
     "text": [
      "Writing trajectory to:  ./sb2-test/\n",
      "as:  sb2_t1\n",
      "Running dynamics\n"
     ]
    },
    {
     "ename": "KeyboardInterrupt",
     "evalue": "",
     "output_type": "error",
     "traceback": [
      "\u001b[0;31m---------------------------------------------------------------------------\u001b[0m",
      "\u001b[0;31mKeyboardInterrupt\u001b[0m                         Traceback (most recent call last)",
      "\u001b[0;32m<ipython-input-6-53deb68d753f>\u001b[0m in \u001b[0;36m<module>\u001b[0;34m\u001b[0m\n\u001b[1;32m     22\u001b[0m \u001b[0;34m\u001b[0m\u001b[0m\n\u001b[1;32m     23\u001b[0m \u001b[0;34m\u001b[0m\u001b[0m\n\u001b[0;32m---> 24\u001b[0;31m \u001b[0mrun_dynamics_with_openMM\u001b[0m\u001b[0;34m(\u001b[0m\u001b[0msim\u001b[0m\u001b[0;34m,\u001b[0m \u001b[0;34m'./sb2-test/'\u001b[0m\u001b[0;34m,\u001b[0m \u001b[0;34m'sb2_t1'\u001b[0m\u001b[0;34m,\u001b[0m \u001b[0;36m50000\u001b[0m\u001b[0;34m)\u001b[0m\u001b[0;34m\u001b[0m\u001b[0;34m\u001b[0m\u001b[0m\n\u001b[0m",
      "\u001b[0;32m<ipython-input-3-37b2bfd63bdf>\u001b[0m in \u001b[0;36mrun_dynamics_with_openMM\u001b[0;34m(sim, output_filepath, name, nr_of_steps)\u001b[0m\n\u001b[1;32m     13\u001b[0m     \u001b[0;31m# Run dynamics\u001b[0m\u001b[0;34m\u001b[0m\u001b[0;34m\u001b[0m\u001b[0;34m\u001b[0m\u001b[0m\n\u001b[1;32m     14\u001b[0m     \u001b[0mprint\u001b[0m\u001b[0;34m(\u001b[0m\u001b[0;34m'Running dynamics'\u001b[0m\u001b[0;34m)\u001b[0m\u001b[0;34m\u001b[0m\u001b[0;34m\u001b[0m\u001b[0m\n\u001b[0;32m---> 15\u001b[0;31m     \u001b[0msim\u001b[0m\u001b[0;34m.\u001b[0m\u001b[0mstep\u001b[0m\u001b[0;34m(\u001b[0m\u001b[0mint\u001b[0m\u001b[0;34m(\u001b[0m\u001b[0mnr_of_steps\u001b[0m\u001b[0;34m)\u001b[0m\u001b[0;34m)\u001b[0m\u001b[0;34m\u001b[0m\u001b[0;34m\u001b[0m\u001b[0m\n\u001b[0m\u001b[1;32m     16\u001b[0m \u001b[0;34m\u001b[0m\u001b[0m\n\u001b[1;32m     17\u001b[0m \u001b[0;34m\u001b[0m\u001b[0m\n",
      "\u001b[0;32m~/anaconda3/envs/protons-dev/lib/python3.6/site-packages/simtk/openmm/app/simulation.py\u001b[0m in \u001b[0;36mstep\u001b[0;34m(self, steps)\u001b[0m\n\u001b[1;32m    130\u001b[0m     \u001b[0;32mdef\u001b[0m \u001b[0mstep\u001b[0m\u001b[0;34m(\u001b[0m\u001b[0mself\u001b[0m\u001b[0;34m,\u001b[0m \u001b[0msteps\u001b[0m\u001b[0;34m)\u001b[0m\u001b[0;34m:\u001b[0m\u001b[0;34m\u001b[0m\u001b[0;34m\u001b[0m\u001b[0m\n\u001b[1;32m    131\u001b[0m         \u001b[0;34m\"\"\"Advance the simulation by integrating a specified number of time steps.\"\"\"\u001b[0m\u001b[0;34m\u001b[0m\u001b[0;34m\u001b[0m\u001b[0m\n\u001b[0;32m--> 132\u001b[0;31m         \u001b[0mself\u001b[0m\u001b[0;34m.\u001b[0m\u001b[0m_simulate\u001b[0m\u001b[0;34m(\u001b[0m\u001b[0mendStep\u001b[0m\u001b[0;34m=\u001b[0m\u001b[0mself\u001b[0m\u001b[0;34m.\u001b[0m\u001b[0mcurrentStep\u001b[0m\u001b[0;34m+\u001b[0m\u001b[0msteps\u001b[0m\u001b[0;34m)\u001b[0m\u001b[0;34m\u001b[0m\u001b[0;34m\u001b[0m\u001b[0m\n\u001b[0m\u001b[1;32m    133\u001b[0m \u001b[0;34m\u001b[0m\u001b[0m\n\u001b[1;32m    134\u001b[0m     \u001b[0;32mdef\u001b[0m \u001b[0mrunForClockTime\u001b[0m\u001b[0;34m(\u001b[0m\u001b[0mself\u001b[0m\u001b[0;34m,\u001b[0m \u001b[0mtime\u001b[0m\u001b[0;34m,\u001b[0m \u001b[0mcheckpointFile\u001b[0m\u001b[0;34m=\u001b[0m\u001b[0;32mNone\u001b[0m\u001b[0;34m,\u001b[0m \u001b[0mstateFile\u001b[0m\u001b[0;34m=\u001b[0m\u001b[0;32mNone\u001b[0m\u001b[0;34m,\u001b[0m \u001b[0mcheckpointInterval\u001b[0m\u001b[0;34m=\u001b[0m\u001b[0;32mNone\u001b[0m\u001b[0;34m)\u001b[0m\u001b[0;34m:\u001b[0m\u001b[0;34m\u001b[0m\u001b[0;34m\u001b[0m\u001b[0m\n",
      "\u001b[0;32m~/anaconda3/envs/protons-dev/lib/python3.6/site-packages/simtk/openmm/app/simulation.py\u001b[0m in \u001b[0;36m_simulate\u001b[0;34m(self, endStep, endTime)\u001b[0m\n\u001b[1;32m    195\u001b[0m             \u001b[0mstepsToGo\u001b[0m \u001b[0;34m=\u001b[0m \u001b[0mnextSteps\u001b[0m\u001b[0;34m\u001b[0m\u001b[0;34m\u001b[0m\u001b[0m\n\u001b[1;32m    196\u001b[0m             \u001b[0;32mwhile\u001b[0m \u001b[0mstepsToGo\u001b[0m \u001b[0;34m>\u001b[0m \u001b[0;36m10\u001b[0m\u001b[0;34m:\u001b[0m\u001b[0;34m\u001b[0m\u001b[0;34m\u001b[0m\u001b[0m\n\u001b[0;32m--> 197\u001b[0;31m                 \u001b[0mself\u001b[0m\u001b[0;34m.\u001b[0m\u001b[0mintegrator\u001b[0m\u001b[0;34m.\u001b[0m\u001b[0mstep\u001b[0m\u001b[0;34m(\u001b[0m\u001b[0;36m10\u001b[0m\u001b[0;34m)\u001b[0m \u001b[0;31m# Only take 10 steps at a time, to give Python more chances to respond to a control-c.\u001b[0m\u001b[0;34m\u001b[0m\u001b[0;34m\u001b[0m\u001b[0m\n\u001b[0m\u001b[1;32m    198\u001b[0m                 \u001b[0mstepsToGo\u001b[0m \u001b[0;34m-=\u001b[0m \u001b[0;36m10\u001b[0m\u001b[0;34m\u001b[0m\u001b[0;34m\u001b[0m\u001b[0m\n\u001b[1;32m    199\u001b[0m                 \u001b[0;32mif\u001b[0m \u001b[0mendTime\u001b[0m \u001b[0;32mis\u001b[0m \u001b[0;32mnot\u001b[0m \u001b[0;32mNone\u001b[0m \u001b[0;32mand\u001b[0m \u001b[0mdatetime\u001b[0m\u001b[0;34m.\u001b[0m\u001b[0mnow\u001b[0m\u001b[0;34m(\u001b[0m\u001b[0;34m)\u001b[0m \u001b[0;34m>=\u001b[0m \u001b[0mendTime\u001b[0m\u001b[0;34m:\u001b[0m\u001b[0;34m\u001b[0m\u001b[0;34m\u001b[0m\u001b[0m\n",
      "\u001b[0;32m~/anaconda3/envs/protons-dev/lib/python3.6/site-packages/simtk/openmm/openmm.py\u001b[0m in \u001b[0;36mstep\u001b[0;34m(self, steps)\u001b[0m\n\u001b[1;32m   4434\u001b[0m             \u001b[0mthe\u001b[0m \u001b[0mnumber\u001b[0m \u001b[0mof\u001b[0m \u001b[0mtime\u001b[0m \u001b[0msteps\u001b[0m \u001b[0mto\u001b[0m \u001b[0mtake\u001b[0m\u001b[0;34m\u001b[0m\u001b[0;34m\u001b[0m\u001b[0m\n\u001b[1;32m   4435\u001b[0m         \"\"\"\n\u001b[0;32m-> 4436\u001b[0;31m         \u001b[0;32mreturn\u001b[0m \u001b[0m_openmm\u001b[0m\u001b[0;34m.\u001b[0m\u001b[0mLangevinIntegrator_step\u001b[0m\u001b[0;34m(\u001b[0m\u001b[0mself\u001b[0m\u001b[0;34m,\u001b[0m \u001b[0msteps\u001b[0m\u001b[0;34m)\u001b[0m\u001b[0;34m\u001b[0m\u001b[0;34m\u001b[0m\u001b[0m\n\u001b[0m\u001b[1;32m   4437\u001b[0m \u001b[0;34m\u001b[0m\u001b[0m\n\u001b[1;32m   4438\u001b[0m \u001b[0;34m\u001b[0m\u001b[0m\n",
      "\u001b[0;31mKeyboardInterrupt\u001b[0m: "
     ]
    }
   ],
   "source": [
    "forcefield = app.ForceField(\"amber10.xml\", gaff_default, './sb2-test/sb2_t1.ffxml', \"tip3p.xml\")\n",
    "pdb_object = app.PDBxFile('./sb2-test/sb2-water.cif')\n",
    "\n",
    "\n",
    "system = forcefield.createSystem(\n",
    "    pdb_object.topology,\n",
    "    nonbondedMethod=app.PME,\n",
    "    rigidWater=True,\n",
    ")\n",
    "system.addForce(mm.MonteCarloBarostat(1.0 * unit.atmosphere, 300 * unit.kelvin))\n",
    "\n",
    "integrator = mm.LangevinIntegrator(\n",
    "                300*unit.kelvin,       # Temperature of heat bath\n",
    "                1.0/unit.picoseconds,  # Friction coefficient\n",
    "                2.0*unit.femtoseconds, # Time step\n",
    ")\n",
    "\n",
    "\n",
    "sim = app.Simulation(pdb_object.topology, system, integrator)\n",
    "sim.context.setPositions(pdb_object.positions)\n",
    "\n",
    "\n",
    "\n",
    "run_dynamics_with_openMM(sim, './sb2-test/', 'sb2_t1', 50000)"
   ]
  },
  {
   "cell_type": "code",
   "execution_count": null,
   "metadata": {},
   "outputs": [],
   "source": [
    "forcefield = app.ForceField(\"amber10.xml\", gaff_default, './sb2-test/sb2_t2.ffxml', \"tip3p.xml\")\n",
    "pdb_object = app.PDBxFile('./sb2-test/sb2-water.cif')\n",
    "\n",
    "\n",
    "system = forcefield.createSystem(\n",
    "    pdb_object.topology,\n",
    "    nonbondedMethod=app.PME,\n",
    "    rigidWater=True,\n",
    ")\n",
    "system.addForce(mm.MonteCarloBarostat(1.0 * unit.atmosphere, 300 * unit.kelvin))\n",
    "\n",
    "integrator = mm.LangevinIntegrator(\n",
    "                300*unit.kelvin,       # Temperature of heat bath\n",
    "                1.0/unit.picoseconds,  # Friction coefficient\n",
    "                2.0*unit.femtoseconds, # Time step\n",
    ")\n",
    "\n",
    "\n",
    "sim = app.Simulation(pdb_object.topology, system, integrator)\n",
    "sim.context.setPositions(pdb_object.positions)\n",
    "\n",
    "\n",
    "\n",
    "run_dynamics_with_openMM(sim, './sb2-test/', 'sb2_t2', 50000)"
   ]
  },
  {
   "cell_type": "code",
   "execution_count": null,
   "metadata": {},
   "outputs": [],
   "source": [
    "e_t1 = []\n",
    "for idx, l in enumerate(open('./sb2-test/sb2_t1.csv', 'r')):\n",
    "    if idx == 0:\n",
    "        continue\n",
    "    e_t1.append(float(l.split(',')[1]))\n",
    "    \n",
    "e_t2 = []\n",
    "for idx, l in enumerate(open('./sb2-test/sb2_t2.csv', 'r')):\n",
    "    if idx == 0:\n",
    "        continue\n",
    "    e_t2.append(float(l.split(',')[1]))"
   ]
  },
  {
   "cell_type": "code",
   "execution_count": null,
   "metadata": {},
   "outputs": [],
   "source": [
    "plt.hist(e_t1)\n",
    "plt.hist(e_t2)\n",
    "plt.show()"
   ]
  },
  {
   "cell_type": "code",
   "execution_count": null,
   "metadata": {},
   "outputs": [],
   "source": []
  },
  {
   "cell_type": "code",
   "execution_count": null,
   "metadata": {},
   "outputs": [],
   "source": []
  },
  {
   "cell_type": "code",
   "execution_count": null,
   "metadata": {},
   "outputs": [],
   "source": []
  },
  {
   "cell_type": "code",
   "execution_count": null,
   "metadata": {},
   "outputs": [],
   "source": [
    "%cat /home/mwieder/Work/Projects/protons-dev/protons/examples/tautomers/sb2/input/sb2.hxml\n"
   ]
  },
  {
   "cell_type": "code",
   "execution_count": null,
   "metadata": {
    "scrolled": false
   },
   "outputs": [],
   "source": [
    "%cat /home/mwieder/Work/Projects/protons-dev/protons/examples/tautomers/sb2/output/sb2.ffxml\n"
   ]
  }
 ],
 "metadata": {
  "kernelspec": {
   "display_name": "protons-dev",
   "language": "python",
   "name": "protons-dev"
  },
  "language_info": {
   "codemirror_mode": {
    "name": "ipython",
    "version": 3
   },
   "file_extension": ".py",
   "mimetype": "text/x-python",
   "name": "python",
   "nbconvert_exporter": "python",
   "pygments_lexer": "ipython3",
   "version": "3.6.8"
  }
 },
 "nbformat": 4,
 "nbformat_minor": 2
}
