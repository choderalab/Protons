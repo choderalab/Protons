{
 "cells": [
  {
   "cell_type": "code",
   "execution_count": 7,
   "metadata": {},
   "outputs": [],
   "source": [
    "from protons.app.ligand_tautomers import *\n",
    "from protons.app import logger\n",
    "from protons.app.logger import log\n",
    "from lxml import etree\n",
    "import json\n",
    "import sys\n",
    "import os\n",
    "import rdkit\n",
    "from __future__ import print_function\n",
    "from protons import app\n",
    "from simtk import unit, openmm as mm\n",
    "from protons.app import ConstantPHCalibration, ForceFieldProtonDrive, NCMCProtonDrive\n",
    "from protons.app import MetadataReporter, TitrationReporter, NCMCReporter, SAMSReporter\n",
    "import shutil\n",
    "import signal\n",
    "import json\n",
    "from protons.app.logger import log, logging\n",
    "import numpy as np\n",
    "from openmmtools.integrators import LangevinIntegrator, ExternalPerturbationLangevinIntegrator\n",
    "log.setLevel(logging.DEBUG)\n",
    "import os\n",
    "import sys\n",
    "import netCDF4\n",
    "from saltswap.wrappers import Salinator\n",
    "import json\n",
    "from protons.app.analysis import *"
   ]
  },
  {
   "cell_type": "code",
   "execution_count": 8,
   "metadata": {
    "scrolled": true
   },
   "outputs": [
    {
     "name": "stderr",
     "output_type": "stream",
     "text": [
      "[analysis.py:85 -       bar_all_states() ] 0->1\n",
      "--- Logging error ---\n",
      "Traceback (most recent call last):\n",
      "  File \"/home/mwieder/anaconda3/envs/protons-development/lib/python3.6/logging/__init__.py\", line 992, in emit\n",
      "    msg = self.format(record)\n",
      "  File \"/home/mwieder/anaconda3/envs/protons-development/lib/python3.6/logging/__init__.py\", line 838, in format\n",
      "    return fmt.format(record)\n",
      "  File \"/home/mwieder/anaconda3/envs/protons-development/lib/python3.6/logging/__init__.py\", line 575, in format\n",
      "    record.message = record.getMessage()\n",
      "  File \"/home/mwieder/anaconda3/envs/protons-development/lib/python3.6/logging/__init__.py\", line 338, in getMessage\n",
      "    msg = msg % self.args\n",
      "TypeError: not all arguments converted during string formatting\n",
      "Call stack:\n",
      "  File \"/home/mwieder/anaconda3/envs/protons-development/lib/python3.6/runpy.py\", line 193, in _run_module_as_main\n",
      "    \"__main__\", mod_spec)\n",
      "  File \"/home/mwieder/anaconda3/envs/protons-development/lib/python3.6/runpy.py\", line 85, in _run_code\n",
      "    exec(code, run_globals)\n",
      "  File \"/home/mwieder/anaconda3/envs/protons-development/lib/python3.6/site-packages/ipykernel_launcher.py\", line 16, in <module>\n",
      "    app.launch_new_instance()\n",
      "  File \"/home/mwieder/anaconda3/envs/protons-development/lib/python3.6/site-packages/traitlets/config/application.py\", line 658, in launch_instance\n",
      "    app.start()\n",
      "  File \"/home/mwieder/anaconda3/envs/protons-development/lib/python3.6/site-packages/ipykernel/kernelapp.py\", line 486, in start\n",
      "    self.io_loop.start()\n",
      "  File \"/home/mwieder/anaconda3/envs/protons-development/lib/python3.6/site-packages/tornado/platform/asyncio.py\", line 112, in start\n",
      "    self.asyncio_loop.run_forever()\n",
      "  File \"/home/mwieder/anaconda3/envs/protons-development/lib/python3.6/asyncio/base_events.py\", line 422, in run_forever\n",
      "    self._run_once()\n",
      "  File \"/home/mwieder/anaconda3/envs/protons-development/lib/python3.6/asyncio/base_events.py\", line 1432, in _run_once\n",
      "    handle._run()\n",
      "  File \"/home/mwieder/anaconda3/envs/protons-development/lib/python3.6/asyncio/events.py\", line 145, in _run\n",
      "    self._callback(*self._args)\n",
      "  File \"/home/mwieder/anaconda3/envs/protons-development/lib/python3.6/site-packages/tornado/platform/asyncio.py\", line 102, in _handle_events\n",
      "    handler_func(fileobj, events)\n",
      "  File \"/home/mwieder/anaconda3/envs/protons-development/lib/python3.6/site-packages/tornado/stack_context.py\", line 276, in null_wrapper\n",
      "    return fn(*args, **kwargs)\n",
      "  File \"/home/mwieder/anaconda3/envs/protons-development/lib/python3.6/site-packages/zmq/eventloop/zmqstream.py\", line 450, in _handle_events\n",
      "    self._handle_recv()\n",
      "  File \"/home/mwieder/anaconda3/envs/protons-development/lib/python3.6/site-packages/zmq/eventloop/zmqstream.py\", line 480, in _handle_recv\n",
      "    self._run_callback(callback, msg)\n",
      "  File \"/home/mwieder/anaconda3/envs/protons-development/lib/python3.6/site-packages/zmq/eventloop/zmqstream.py\", line 432, in _run_callback\n",
      "    callback(*args, **kwargs)\n",
      "  File \"/home/mwieder/anaconda3/envs/protons-development/lib/python3.6/site-packages/tornado/stack_context.py\", line 276, in null_wrapper\n",
      "    return fn(*args, **kwargs)\n",
      "  File \"/home/mwieder/anaconda3/envs/protons-development/lib/python3.6/site-packages/ipykernel/kernelbase.py\", line 283, in dispatcher\n",
      "    return self.dispatch_shell(stream, msg)\n",
      "  File \"/home/mwieder/anaconda3/envs/protons-development/lib/python3.6/site-packages/ipykernel/kernelbase.py\", line 233, in dispatch_shell\n",
      "    handler(stream, idents, msg)\n",
      "  File \"/home/mwieder/anaconda3/envs/protons-development/lib/python3.6/site-packages/ipykernel/kernelbase.py\", line 399, in execute_request\n",
      "    user_expressions, allow_stdin)\n",
      "  File \"/home/mwieder/anaconda3/envs/protons-development/lib/python3.6/site-packages/ipykernel/ipkernel.py\", line 208, in do_execute\n",
      "    res = shell.run_cell(code, store_history=store_history, silent=silent)\n",
      "  File \"/home/mwieder/anaconda3/envs/protons-development/lib/python3.6/site-packages/ipykernel/zmqshell.py\", line 537, in run_cell\n",
      "    return super(ZMQInteractiveShell, self).run_cell(*args, **kwargs)\n",
      "  File \"/home/mwieder/anaconda3/envs/protons-development/lib/python3.6/site-packages/IPython/core/interactiveshell.py\", line 2662, in run_cell\n",
      "    raw_cell, store_history, silent, shell_futures)\n",
      "  File \"/home/mwieder/anaconda3/envs/protons-development/lib/python3.6/site-packages/IPython/core/interactiveshell.py\", line 2785, in _run_cell\n",
      "    interactivity=interactivity, compiler=compiler, result=result)\n",
      "  File \"/home/mwieder/anaconda3/envs/protons-development/lib/python3.6/site-packages/IPython/core/interactiveshell.py\", line 2909, in run_ast_nodes\n",
      "    if self.run_code(code, result):\n",
      "  File \"/home/mwieder/anaconda3/envs/protons-development/lib/python3.6/site-packages/IPython/core/interactiveshell.py\", line 2963, in run_code\n",
      "    exec(code_obj, self.user_global_ns, self.user_ns)\n",
      "  File \"<ipython-input-8-343da7a1007d>\", line 2, in <module>\n",
      "    plot_calibration_weight_traces(dataset=a)\n",
      "  File \"/home/mwieder/anaconda3/envs/protons-development/lib/python3.6/site-packages/protons-0.0.1a2+5.gba9ee71.dirty-py3.6.egg/protons/app/analysis.py\", line 265, in plot_calibration_weight_traces\n",
      "    bar_data = bar_all_states(dataset, bootstrap=bootstrap, num_bootstrap_samples=num_bootstrap_samples)\n",
      "  File \"/home/mwieder/anaconda3/envs/protons-development/lib/python3.6/site-packages/protons-0.0.1a2+5.gba9ee71.dirty-py3.6.egg/protons/app/analysis.py\", line 88, in bar_all_states\n",
      "    forward, reverse = _gather_transitions(from_state, to_state, initial_states, proposed_states, proposal_work, gk)\n",
      "  File \"/home/mwieder/anaconda3/envs/protons-development/lib/python3.6/site-packages/protons-0.0.1a2+5.gba9ee71.dirty-py3.6.egg/protons/app/analysis.py\", line 209, in _gather_transitions\n",
      "    log.debug(\"forward\", \"reverse\")\n",
      "Message: 'forward'\n",
      "Arguments: ('reverse',)\n",
      "--- Logging error ---\n",
      "Traceback (most recent call last):\n",
      "  File \"/home/mwieder/anaconda3/envs/protons-development/lib/python3.6/logging/__init__.py\", line 992, in emit\n",
      "    msg = self.format(record)\n",
      "  File \"/home/mwieder/anaconda3/envs/protons-development/lib/python3.6/logging/__init__.py\", line 838, in format\n",
      "    return fmt.format(record)\n",
      "  File \"/home/mwieder/anaconda3/envs/protons-development/lib/python3.6/logging/__init__.py\", line 575, in format\n",
      "    record.message = record.getMessage()\n",
      "  File \"/home/mwieder/anaconda3/envs/protons-development/lib/python3.6/logging/__init__.py\", line 338, in getMessage\n",
      "    msg = msg % self.args\n",
      "TypeError: not all arguments converted during string formatting\n",
      "Call stack:\n",
      "  File \"/home/mwieder/anaconda3/envs/protons-development/lib/python3.6/runpy.py\", line 193, in _run_module_as_main\n",
      "    \"__main__\", mod_spec)\n",
      "  File \"/home/mwieder/anaconda3/envs/protons-development/lib/python3.6/runpy.py\", line 85, in _run_code\n",
      "    exec(code, run_globals)\n",
      "  File \"/home/mwieder/anaconda3/envs/protons-development/lib/python3.6/site-packages/ipykernel_launcher.py\", line 16, in <module>\n",
      "    app.launch_new_instance()\n",
      "  File \"/home/mwieder/anaconda3/envs/protons-development/lib/python3.6/site-packages/traitlets/config/application.py\", line 658, in launch_instance\n",
      "    app.start()\n",
      "  File \"/home/mwieder/anaconda3/envs/protons-development/lib/python3.6/site-packages/ipykernel/kernelapp.py\", line 486, in start\n",
      "    self.io_loop.start()\n",
      "  File \"/home/mwieder/anaconda3/envs/protons-development/lib/python3.6/site-packages/tornado/platform/asyncio.py\", line 112, in start\n",
      "    self.asyncio_loop.run_forever()\n",
      "  File \"/home/mwieder/anaconda3/envs/protons-development/lib/python3.6/asyncio/base_events.py\", line 422, in run_forever\n",
      "    self._run_once()\n",
      "  File \"/home/mwieder/anaconda3/envs/protons-development/lib/python3.6/asyncio/base_events.py\", line 1432, in _run_once\n",
      "    handle._run()\n",
      "  File \"/home/mwieder/anaconda3/envs/protons-development/lib/python3.6/asyncio/events.py\", line 145, in _run\n",
      "    self._callback(*self._args)\n",
      "  File \"/home/mwieder/anaconda3/envs/protons-development/lib/python3.6/site-packages/tornado/platform/asyncio.py\", line 102, in _handle_events\n",
      "    handler_func(fileobj, events)\n",
      "  File \"/home/mwieder/anaconda3/envs/protons-development/lib/python3.6/site-packages/tornado/stack_context.py\", line 276, in null_wrapper\n",
      "    return fn(*args, **kwargs)\n",
      "  File \"/home/mwieder/anaconda3/envs/protons-development/lib/python3.6/site-packages/zmq/eventloop/zmqstream.py\", line 450, in _handle_events\n",
      "    self._handle_recv()\n",
      "  File \"/home/mwieder/anaconda3/envs/protons-development/lib/python3.6/site-packages/zmq/eventloop/zmqstream.py\", line 480, in _handle_recv\n",
      "    self._run_callback(callback, msg)\n",
      "  File \"/home/mwieder/anaconda3/envs/protons-development/lib/python3.6/site-packages/zmq/eventloop/zmqstream.py\", line 432, in _run_callback\n",
      "    callback(*args, **kwargs)\n",
      "  File \"/home/mwieder/anaconda3/envs/protons-development/lib/python3.6/site-packages/tornado/stack_context.py\", line 276, in null_wrapper\n",
      "    return fn(*args, **kwargs)\n",
      "  File \"/home/mwieder/anaconda3/envs/protons-development/lib/python3.6/site-packages/ipykernel/kernelbase.py\", line 283, in dispatcher\n",
      "    return self.dispatch_shell(stream, msg)\n",
      "  File \"/home/mwieder/anaconda3/envs/protons-development/lib/python3.6/site-packages/ipykernel/kernelbase.py\", line 233, in dispatch_shell\n",
      "    handler(stream, idents, msg)\n",
      "  File \"/home/mwieder/anaconda3/envs/protons-development/lib/python3.6/site-packages/ipykernel/kernelbase.py\", line 399, in execute_request\n",
      "    user_expressions, allow_stdin)\n",
      "  File \"/home/mwieder/anaconda3/envs/protons-development/lib/python3.6/site-packages/ipykernel/ipkernel.py\", line 208, in do_execute\n",
      "    res = shell.run_cell(code, store_history=store_history, silent=silent)\n",
      "  File \"/home/mwieder/anaconda3/envs/protons-development/lib/python3.6/site-packages/ipykernel/zmqshell.py\", line 537, in run_cell\n",
      "    return super(ZMQInteractiveShell, self).run_cell(*args, **kwargs)\n",
      "  File \"/home/mwieder/anaconda3/envs/protons-development/lib/python3.6/site-packages/IPython/core/interactiveshell.py\", line 2662, in run_cell\n",
      "    raw_cell, store_history, silent, shell_futures)\n",
      "  File \"/home/mwieder/anaconda3/envs/protons-development/lib/python3.6/site-packages/IPython/core/interactiveshell.py\", line 2785, in _run_cell\n",
      "    interactivity=interactivity, compiler=compiler, result=result)\n",
      "  File \"/home/mwieder/anaconda3/envs/protons-development/lib/python3.6/site-packages/IPython/core/interactiveshell.py\", line 2909, in run_ast_nodes\n",
      "    if self.run_code(code, result):\n",
      "  File \"/home/mwieder/anaconda3/envs/protons-development/lib/python3.6/site-packages/IPython/core/interactiveshell.py\", line 2963, in run_code\n",
      "    exec(code_obj, self.user_global_ns, self.user_ns)\n",
      "  File \"<ipython-input-8-343da7a1007d>\", line 2, in <module>\n",
      "    plot_calibration_weight_traces(dataset=a)\n",
      "  File \"/home/mwieder/anaconda3/envs/protons-development/lib/python3.6/site-packages/protons-0.0.1a2+5.gba9ee71.dirty-py3.6.egg/protons/app/analysis.py\", line 265, in plot_calibration_weight_traces\n",
      "    bar_data = bar_all_states(dataset, bootstrap=bootstrap, num_bootstrap_samples=num_bootstrap_samples)\n",
      "  File \"/home/mwieder/anaconda3/envs/protons-development/lib/python3.6/site-packages/protons-0.0.1a2+5.gba9ee71.dirty-py3.6.egg/protons/app/analysis.py\", line 88, in bar_all_states\n",
      "    forward, reverse = _gather_transitions(from_state, to_state, initial_states, proposed_states, proposal_work, gk)\n",
      "  File \"/home/mwieder/anaconda3/envs/protons-development/lib/python3.6/site-packages/protons-0.0.1a2+5.gba9ee71.dirty-py3.6.egg/protons/app/analysis.py\", line 210, in _gather_transitions\n",
      "    log.debug(num_forward, num_reverse)\n",
      "Message: 218\n",
      "Arguments: (647,)\n"
     ]
    },
    {
     "data": {
      "text/plain": [
       "<matplotlib.axes._subplots.AxesSubplot at 0x7fa3232c9780>"
      ]
     },
     "execution_count": 8,
     "metadata": {},
     "output_type": "execute_result"
    },
    {
     "data": {
      "image/png": "[encoded data removed]",
      "text/plain": [
       "<Figure size 432x288 with 1 Axes>"
      ]
     },
     "metadata": {},
     "output_type": "display_data"
    }
   ],
   "source": [
    "a = netCDF4.Dataset('./test.netcdf', 'r')\n",
    "plot_calibration_weight_traces(dataset=a)"
   ]
  },
  {
   "cell_type": "code",
   "execution_count": 16,
   "metadata": {},
   "outputs": [
    {
     "data": {
      "text/plain": [
       "array([0, 0, 0, 0, 0, 0, 0, 0, 0, 0, 0, 0, 0, 0, 0, 0, 0, 0, 0, 0, 0, 0, 0,\n",
       "       0, 0, 0, 0, 0, 0, 0, 0, 0, 0, 0, 0, 0, 0, 0, 0, 0, 0, 2, 0, 0, 0, 0,\n",
       "       0, 0, 0, 0, 0, 0, 0, 0, 0, 0, 0, 0, 0, 0, 0, 0, 0, 0, 0, 0, 0, 0, 0,\n",
       "       0, 0, 0, 0, 0, 0, 0, 0, 0, 0, 0, 0, 0, 0, 0, 0, 0, 0, 0, 0, 0, 0, 0,\n",
       "       0, 0, 0, 0, 0, 0, 0, 0, 0, 0, 0, 0, 0, 0, 0, 0, 0, 0, 0, 0, 0, 0, 0,\n",
       "       0, 0, 0, 0, 0, 0, 0, 0, 0, 0, 0, 0, 0, 0, 0, 0, 0, 0, 0, 0, 0, 0, 0,\n",
       "       0, 0, 0, 0, 0, 0, 0, 0, 0, 0, 0, 0, 0, 0, 0, 0, 0, 0, 0, 0, 0, 0, 0,\n",
       "       0, 0, 0, 0, 0, 0, 0, 0, 0, 0, 0, 0, 0, 0, 0, 0, 0, 0, 0, 0, 0, 0, 0,\n",
       "       0, 0, 0, 0, 0, 0, 0, 0, 0, 0, 0, 0, 0, 0, 0, 0, 0, 0, 0, 0, 0, 0, 0,\n",
       "       0, 0, 0, 0, 0, 0, 0, 0, 0, 0, 0, 0, 0, 0, 0, 0, 0, 0, 0, 0, 0, 0, 0,\n",
       "       0, 0, 0, 0, 0, 0, 0, 0, 0, 0, 0, 0, 0, 0, 0, 0, 0, 0, 0, 0, 0, 0, 0,\n",
       "       0, 0, 0, 0, 0, 0, 0, 0, 0, 0, 0, 0, 0, 0, 0, 0, 0, 0, 0, 0, 0, 0, 0,\n",
       "       0, 0, 0, 0, 0, 0, 0, 0, 0, 0, 0, 0, 0, 0, 0, 0, 0, 0, 0, 0, 0, 0, 0,\n",
       "       0, 0, 0, 0, 0, 0, 0, 0, 0, 0, 0, 0, 0, 0, 0, 0, 0, 0, 0, 0, 0, 0, 0,\n",
       "       0, 0, 0, 0, 0, 0, 0, 0, 0, 0, 0, 0, 0, 0, 0, 0, 0, 0, 0, 0, 0, 0, 0,\n",
       "       0, 0, 0, 0, 0, 0, 0, 0, 0, 0, 0, 0, 0, 0, 0, 0, 0, 0, 0, 0, 0, 0, 0,\n",
       "       0, 0, 0, 0, 0, 0, 0, 0, 0, 0, 0, 0, 0, 0, 0, 1, 0, 0, 0, 0, 0, 0, 0,\n",
       "       0, 0, 0, 0, 0, 0, 0, 0, 0, 0, 0, 0, 0, 0, 0, 0, 0, 0, 0, 0, 0, 0, 0,\n",
       "       0, 0, 0, 0, 0, 0, 0, 0, 0, 0, 0, 0, 0, 0, 0, 0, 0, 0, 0, 0, 0, 0, 0,\n",
       "       0, 0, 0, 0, 0, 0, 0, 0, 0, 0, 0, 0, 0, 0, 0, 0, 0, 0, 0, 0, 0, 0, 0,\n",
       "       0, 0, 0, 0, 0, 0, 0, 0, 0, 0, 0, 0, 0, 0, 0, 0, 0, 0, 0, 0, 0, 0, 0,\n",
       "       0, 0, 0, 0, 0, 0, 0, 0, 0, 0, 0, 0, 0, 0, 0, 0, 0, 0, 0, 0, 0, 0, 0,\n",
       "       0, 0, 0, 0, 0, 0, 0, 0, 0, 0, 0, 0, 0, 0, 0, 0, 0, 0, 0, 0, 0, 0, 0,\n",
       "       0, 0, 0, 0, 0, 0, 0, 0, 0, 0, 0, 0, 0, 0, 0, 0, 0, 0, 0, 0, 0, 0, 0,\n",
       "       0, 0, 0, 0, 0, 0, 0, 0, 0, 0, 0, 0, 0, 0, 0, 0, 0, 0, 0, 0, 0, 0, 0,\n",
       "       0, 0, 0, 0, 0, 0, 0, 0, 0, 0, 0, 0, 0, 0, 0, 0, 0, 0, 0, 0, 0, 0, 0,\n",
       "       0, 0, 0])"
      ]
     },
     "execution_count": 16,
     "metadata": {},
     "output_type": "execute_result"
    }
   ],
   "source": [
    "a['Protons/Titration/ionic_species'][-1]"
   ]
  },
  {
   "cell_type": "code",
   "execution_count": 5,
   "metadata": {},
   "outputs": [
    {
     "data": {
      "text/plain": [
       "<matplotlib.axes._subplots.AxesSubplot at 0x7fa323374668>"
      ]
     },
     "execution_count": 5,
     "metadata": {},
     "output_type": "execute_result"
    },
    {
     "data": {
      "image/png": "[encoded data removed]",
      "text/plain": [
       "<Figure size 432x288 with 1 Axes>"
      ]
     },
     "metadata": {},
     "output_type": "display_data"
    }
   ],
   "source": [
    "plot_residue_state_traces(dataset= a, residue_index= 0)"
   ]
  },
  {
   "cell_type": "code",
   "execution_count": null,
   "metadata": {},
   "outputs": [],
   "source": []
  },
  {
   "cell_type": "code",
   "execution_count": 6,
   "metadata": {},
   "outputs": [
    {
     "data": {
      "text/plain": [
       "0.0871345029239766"
      ]
     },
     "execution_count": 6,
     "metadata": {},
     "output_type": "execute_result"
    }
   ],
   "source": [
    "calculate_ncmc_acceptance_rate(dataset=a)"
   ]
  },
  {
   "cell_type": "code",
   "execution_count": 17,
   "metadata": {},
   "outputs": [
    {
     "data": {
      "text/plain": [
       "(array([ 9.424019649917859,  6.121783658904692,  2.608410352522911,\n",
       "        -0.086888479518686, -0.372171301351524,  4.516233617164986,\n",
       "         2.812556195577736,  4.348903995456223,  2.917514162381808,\n",
       "         6.345217591446882,  4.840267799936218,  4.199737538341915,\n",
       "         2.028002500756423,  2.17099196600244 ,  4.336948558934822,\n",
       "         1.073692044172046,  3.731878654137709,  2.631038569093256,\n",
       "         2.583248168531458, -0.590415050595051,  3.81175368087536 ,\n",
       "         0.53750542292717 ,  0.132289376678034,  4.126777746988314,\n",
       "         1.007221258652338,  2.211835336988477,  1.357904867772656,\n",
       "         2.146905147557349,  3.258623698312665,  4.824934046569315,\n",
       "         0.832652931460682,  1.364096939022676,  3.368677627603479,\n",
       "         1.633640616554412,  2.370947467262654,  1.389853652369581,\n",
       "         1.554085839346375,  2.001606539432433, -0.202287590749588,\n",
       "         2.818355282946679,  5.936178587118024,  5.370776903021397,\n",
       "         1.367555107078248,  2.57545239398459 ,  4.682140945313972,\n",
       "         1.678525650450011,  0.128390511130216, -0.221728617392727,\n",
       "         1.827823856471474,  0.867865135314875,  0.068303395473421,\n",
       "         1.357601797944743,  2.027702841695993,  0.938902148658137,\n",
       "         3.058379368390285,  0.447014494787402,  1.367354344418333,\n",
       "         2.99383226838613 , -0.092979718358248,  0.765321149616167,\n",
       "         1.251962473026268,  1.674893083620468,  6.742309263059169,\n",
       "        -0.533385118598805,  0.486408662978527,  4.660263279658045,\n",
       "         0.777418477369348,  1.736006535319361,  1.436320930269591,\n",
       "         1.461141548531595, -1.253169067332344,  3.412274283816729,\n",
       "         4.795408894794903,  1.214480728689051,  1.909118902885624,\n",
       "         0.363745077617611,  3.418877056447405,  2.286673548949035,\n",
       "         2.168735694283608, -1.401425248838478,  1.032754491997837,\n",
       "        -0.324494016820104,  2.413677904652852,  3.221061253916411,\n",
       "         0.847828418401534,  0.633957967214828,  1.848708666747596,\n",
       "         1.321880506377183,  3.301983766559344, -1.783082152116055,\n",
       "         4.114220744180914,  0.030820563562568,  3.310172659323002,\n",
       "         1.473486882663314,  1.357803835173864,  4.736916590462347,\n",
       "        -0.861846508135393,  0.118444150464703,  3.94713323310701 ,\n",
       "         4.237427731710654,  2.855915555857329,  2.511833838847108,\n",
       "         0.276817229587691,  3.431092593548471, -0.082562939457185]),\n",
       " array([ 1.362027841826229, -1.963274806744931, -0.704608296899271,\n",
       "         0.775392143572644, -0.669136442468526, -2.314026766702193,\n",
       "        -1.272511089598494, -0.115376877468822, -2.958824972620944,\n",
       "         0.573555604162255, -0.303824118832325, -2.310720708842542,\n",
       "        -1.518548771050827, -2.048667389504916, -0.191841252985798,\n",
       "        -1.646100840736934, -0.177238971237379, -2.633527518026546,\n",
       "        -1.471852236660379, -1.77639831692955 ,  0.721315691996557,\n",
       "         0.110736745274965, -1.83245045178162 ,  1.455097261614551,\n",
       "        -1.86618373605628 , -0.821611470179734,  0.17288620330239 ,\n",
       "        -1.330326102352803, -3.433022542122944, -2.623297846972967,\n",
       "        -1.398844533033262, -0.48049188471843 , -0.717361097997954,\n",
       "         1.62038671575336 ,  1.088692334665274,  0.474014580078685,\n",
       "        -1.748464606777202, -0.164368581139411, -2.698411082530086,\n",
       "        -3.260747147504453,  1.015775839050867, -3.658909005929251,\n",
       "        -1.423063565143183, -2.096521762044346, -2.15032302189451 ,\n",
       "         3.774456306818515, -3.658108753920468, -3.151290175282861,\n",
       "        -2.690302957874864, -0.936945022121795, -1.922660181868761,\n",
       "        -0.909731056429653, -1.752768060877575, -0.565100129430353,\n",
       "        -1.293956438252792, -0.507836481178337, -1.021951925827451,\n",
       "        -1.595795600302689, -1.916495242946759, -1.209274057935631,\n",
       "        -1.378923109894616, -0.172457379588533, -0.523791400918245]))"
      ]
     },
     "execution_count": 17,
     "metadata": {},
     "output_type": "execute_result"
    }
   ],
   "source": [
    "extract_work_distributions(dataset = a, state1_idx= 0, state2_idx= 1, res_idx = 0)"
   ]
  },
  {
   "cell_type": "code",
   "execution_count": null,
   "metadata": {},
   "outputs": [],
   "source": []
  },
  {
   "cell_type": "code",
   "execution_count": null,
   "metadata": {},
   "outputs": [],
   "source": []
  },
  {
   "cell_type": "code",
   "execution_count": null,
   "metadata": {},
   "outputs": [],
   "source": []
  },
  {
   "cell_type": "code",
   "execution_count": 3,
   "metadata": {},
   "outputs": [
    {
     "name": "stdout",
     "output_type": "stream",
     "text": [
      "<ForceField><AtomTypes><Type type=\"d_H8_hc\" class=\"d_H8_hc\" name=\"H8\" charge=\"0.0902\" sigma=\"0.264953278775\" epsilon=\"0.0656888\" element=\"H\" mass=\"1.008\"/><Type type=\"d_H9_ho\" class=\"d_H9_ho\" name=\"H9\" charge=\"0.4238\" sigma=\"1.0\" epsilon=\"0.0\" element=\"H\" mass=\"1.008\"/></AtomTypes></ForceField>"
     ]
    }
   ],
   "source": [
    "% cat dummy.xml"
   ]
  },
  {
   "cell_type": "code",
   "execution_count": 4,
   "metadata": {
    "scrolled": true
   },
   "outputs": [
    {
     "name": "stdout",
     "output_type": "stream",
     "text": [
      "<ForceField>\r\n",
      "  <Residues>\r\n",
      "    <Residue name=\"UNL\">\r\n",
      "      <Atom name=\"O1\" type=\"o\" charge=\"-0.5453\"/>\r\n",
      "      <Atom name=\"C2\" type=\"c\" charge=\"0.5819\"/>\r\n",
      "      <Atom name=\"C3\" type=\"ca\" charge=\"-0.1679\"/>\r\n",
      "      <Atom name=\"C4\" type=\"ca\" charge=\"-0.07\"/>\r\n",
      "      <Atom name=\"C5\" type=\"ca\" charge=\"-0.145\"/>\r\n",
      "      <Atom name=\"C6\" type=\"ca\" charge=\"-0.1004\"/>\r\n",
      "      <Atom name=\"C7\" type=\"ca\" charge=\"-0.1364\"/>\r\n",
      "      <Atom name=\"C8\" type=\"ca\" charge=\"-0.0118\"/>\r\n",
      "      <Atom name=\"C9\" type=\"ce\" charge=\"-0.1238\"/>\r\n",
      "      <Atom name=\"C10\" type=\"c2\" charge=\"-0.1422\"/>\r\n",
      "      <Atom name=\"C11\" type=\"c3\" charge=\"-0.1522\"/>\r\n",
      "      <Atom name=\"H1\" type=\"ha\" charge=\"0.157\"/>\r\n",
      "      <Atom name=\"H2\" type=\"ha\" charge=\"0.1379\"/>\r\n",
      "      <Atom name=\"H3\" type=\"ha\" charge=\"0.1344\"/>\r\n",
      "      <Atom name=\"H4\" type=\"ha\" charge=\"0.1362\"/>\r\n",
      "      <Atom name=\"H5\" type=\"ha\" charge=\"0.1354\"/>\r\n",
      "      <Atom name=\"H6\" type=\"ha\" charge=\"0.1316\"/>\r\n",
      "      <Atom name=\"H7\" type=\"hc\" charge=\"0.0902\"/>\r\n",
      "      <Atom name=\"H8\" type=\"hc\" charge=\"0.0902\"/>\r\n",
      "      <Atom name=\"H9\" type=\"d_H9_ho\" charge=\"0\"/>\r\n",
      "      <Bond atomName1=\"O1\" atomName2=\"C2\"/>\r\n",
      "      <Bond atomName1=\"C2\" atomName2=\"C3\"/>\r\n",
      "      <Bond atomName1=\"C8\" atomName2=\"C9\"/>\r\n",
      "      <Bond atomName1=\"C9\" atomName2=\"C10\"/>\r\n",
      "      <Bond atomName1=\"C10\" atomName2=\"C11\"/>\r\n",
      "      <Bond atomName1=\"C2\" atomName2=\"C11\"/>\r\n",
      "      <Bond atomName1=\"C4\" atomName2=\"H1\"/>\r\n",
      "      <Bond atomName1=\"C5\" atomName2=\"H2\"/>\r\n",
      "      <Bond atomName1=\"C6\" atomName2=\"H3\"/>\r\n",
      "      <Bond atomName1=\"C7\" atomName2=\"H4\"/>\r\n",
      "      <Bond atomName1=\"C9\" atomName2=\"H5\"/>\r\n",
      "      <Bond atomName1=\"C10\" atomName2=\"H6\"/>\r\n",
      "      <Bond atomName1=\"C11\" atomName2=\"H7\"/>\r\n",
      "      <Bond atomName1=\"C11\" atomName2=\"H8\"/>\r\n",
      "      <Bond atomName1=\"C3\" atomName2=\"C8\"/>\r\n",
      "      <Bond atomName1=\"C6\" atomName2=\"C7\"/>\r\n",
      "      <Bond atomName1=\"C4\" atomName2=\"C5\"/>\r\n",
      "      <Bond atomName1=\"C7\" atomName2=\"C8\"/>\r\n",
      "      <Bond atomName1=\"C5\" atomName2=\"C6\"/>\r\n",
      "      <Bond atomName1=\"C3\" atomName2=\"C4\"/>\r\n",
      "      <Bond atomName1=\"O1\" atomName2=\"H9\"/>\r\n",
      "      <Protons number_of_states=\"2\">\r\n",
      "        <State index=\"0\" log_population=\"7.1\" g_k=\"0.0\" proton_count=\"0\">\r\n",
      "                <Condition pH=\"7.8\" log_population=\"7.1\" temperature_kelvin=\"298.15\"/>\r\n",
      "                <Atom name=\"O1\" type=\"o\" charge=\"-0.5453\" epsilon=\"0.87864\" sigma=\"0.295992190115\"/><Atom name=\"C2\" type=\"c\" charge=\"0.5819\" epsilon=\"0.359824\" sigma=\"0.339966950842\"/><Atom name=\"C3\" type=\"ca\" charge=\"-0.1679\" epsilon=\"0.359824\" sigma=\"0.339966950842\"/><Atom name=\"C4\" type=\"ca\" charge=\"-0.07\" epsilon=\"0.359824\" sigma=\"0.339966950842\"/><Atom name=\"C5\" type=\"ca\" charge=\"-0.145\" epsilon=\"0.359824\" sigma=\"0.339966950842\"/><Atom name=\"C6\" type=\"ca\" charge=\"-0.1004\" epsilon=\"0.359824\" sigma=\"0.339966950842\"/><Atom name=\"C7\" type=\"ca\" charge=\"-0.1364\" epsilon=\"0.359824\" sigma=\"0.339966950842\"/><Atom name=\"C8\" type=\"ca\" charge=\"-0.0118\" epsilon=\"0.359824\" sigma=\"0.339966950842\"/><Atom name=\"C9\" type=\"ce\" charge=\"-0.1238\" epsilon=\"0.359824\" sigma=\"0.339966950842\"/><Atom name=\"C10\" type=\"c2\" charge=\"-0.1422\" epsilon=\"0.359824\" sigma=\"0.339966950842\"/><Atom name=\"C11\" type=\"c3\" charge=\"-0.1522\" epsilon=\"0.4577296\" sigma=\"0.339966950842\"/><Atom name=\"H1\" type=\"ha\" charge=\"0.157\" epsilon=\"0.06276\" sigma=\"0.259964245953\"/><Atom name=\"H2\" type=\"ha\" charge=\"0.1379\" epsilon=\"0.06276\" sigma=\"0.259964245953\"/><Atom name=\"H3\" type=\"ha\" charge=\"0.1344\" epsilon=\"0.06276\" sigma=\"0.259964245953\"/><Atom name=\"H4\" type=\"ha\" charge=\"0.1362\" epsilon=\"0.06276\" sigma=\"0.259964245953\"/><Atom name=\"H5\" type=\"ha\" charge=\"0.1354\" epsilon=\"0.06276\" sigma=\"0.259964245953\"/><Atom name=\"H6\" type=\"ha\" charge=\"0.1316\" epsilon=\"0.06276\" sigma=\"0.259964245953\"/><Atom name=\"H7\" type=\"hc\" charge=\"0.0902\" epsilon=\"0.0656888\" sigma=\"0.264953278775\"/><Atom name=\"H8\" type=\"hc\" charge=\"0.0902\" epsilon=\"0.0656888\" sigma=\"0.264953278775\"/><Atom name=\"H9\" type=\"d_H9_ho\" charge=\"0\" epsilon=\"0\" sigma=\"0\"/><Bond atomName1=\"O1\" atomName2=\"C2\"/><Bond atomName1=\"C2\" atomName2=\"C3\"/><Bond atomName1=\"C8\" atomName2=\"C9\"/><Bond atomName1=\"C9\" atomName2=\"C10\"/><Bond atomName1=\"C10\" atomName2=\"C11\"/><Bond atomName1=\"C2\" atomName2=\"C11\"/><Bond atomName1=\"C4\" atomName2=\"H1\"/><Bond atomName1=\"C5\" atomName2=\"H2\"/><Bond atomName1=\"C6\" atomName2=\"H3\"/><Bond atomName1=\"C7\" atomName2=\"H4\"/><Bond atomName1=\"C9\" atomName2=\"H5\"/><Bond atomName1=\"C10\" atomName2=\"H6\"/><Bond atomName1=\"C11\" atomName2=\"H7\"/><Bond atomName1=\"C11\" atomName2=\"H8\"/><Bond atomName1=\"C3\" atomName2=\"C8\"/><Bond atomName1=\"C6\" atomName2=\"C7\"/><Bond atomName1=\"C4\" atomName2=\"C5\"/><Bond atomName1=\"C7\" atomName2=\"C8\"/><Bond atomName1=\"C5\" atomName2=\"C6\"/><Bond atomName1=\"C3\" atomName2=\"C4\"/><Bond atomName1=\"O1\" atomName2=\"H9\"/></State>\r\n",
      "        <State index=\"1\" log_population=\"1\" g_k=\"0.0\" proton_count=\"0\">\r\n",
      "                <Condition pH=\"7.8\" log_population=\"1\" temperature_kelvin=\"298.15\"/>\r\n",
      "                <Atom name=\"O1\" type=\"oh\" charge=\"-0.5453\" epsilon=\"0.0656888\" sigma=\"0.264953278775\"/><Atom name=\"C2\" type=\"ca\" charge=\"0.5819\" epsilon=\"0.0656888\" sigma=\"0.264953278775\"/><Atom name=\"C3\" type=\"ca\" charge=\"-0.1679\" epsilon=\"0.0656888\" sigma=\"0.264953278775\"/><Atom name=\"C4\" type=\"ca\" charge=\"-0.07\" epsilon=\"0.0656888\" sigma=\"0.264953278775\"/><Atom name=\"C5\" type=\"ca\" charge=\"-0.145\" epsilon=\"0.0656888\" sigma=\"0.264953278775\"/><Atom name=\"C6\" type=\"ca\" charge=\"-0.1004\" epsilon=\"0.0656888\" sigma=\"0.264953278775\"/><Atom name=\"C7\" type=\"ca\" charge=\"-0.1364\" epsilon=\"0.0656888\" sigma=\"0.264953278775\"/><Atom name=\"C8\" type=\"ca\" charge=\"-0.0118\" epsilon=\"0.0656888\" sigma=\"0.264953278775\"/><Atom name=\"C9\" type=\"ca\" charge=\"-0.1238\" epsilon=\"0.0656888\" sigma=\"0.264953278775\"/><Atom name=\"C10\" type=\"ca\" charge=\"-0.1422\" epsilon=\"0.0656888\" sigma=\"0.264953278775\"/><Atom name=\"C11\" type=\"ca\" charge=\"-0.1522\" epsilon=\"0.0656888\" sigma=\"0.264953278775\"/><Atom name=\"H1\" type=\"ha\" charge=\"0.157\" epsilon=\"0.0656888\" sigma=\"0.264953278775\"/><Atom name=\"H2\" type=\"ha\" charge=\"0.1379\" epsilon=\"0.0656888\" sigma=\"0.264953278775\"/><Atom name=\"H3\" type=\"ha\" charge=\"0.1344\" epsilon=\"0.0656888\" sigma=\"0.264953278775\"/><Atom name=\"H4\" type=\"ha\" charge=\"0.1362\" epsilon=\"0.0656888\" sigma=\"0.264953278775\"/><Atom name=\"H5\" type=\"ha\" charge=\"0.1354\" epsilon=\"0.0656888\" sigma=\"0.264953278775\"/><Atom name=\"H6\" type=\"ha\" charge=\"0.1316\" epsilon=\"0.0656888\" sigma=\"0.264953278775\"/><Atom name=\"H7\" type=\"ha\" charge=\"0.0902\" epsilon=\"0.0656888\" sigma=\"0.264953278775\"/><Atom name=\"H8\" type=\"d_H8_hc\" charge=\"0\" epsilon=\"0\" sigma=\"0\"/><Atom name=\"H9\" type=\"ho\" charge=\"0.4238\" epsilon=\"0.0\" sigma=\"1.0\"/><Bond atomName1=\"O1\" atomName2=\"C2\"/><Bond atomName1=\"C2\" atomName2=\"C3\"/><Bond atomName1=\"C8\" atomName2=\"C9\"/><Bond atomName1=\"C9\" atomName2=\"C10\"/><Bond atomName1=\"C10\" atomName2=\"C11\"/><Bond atomName1=\"C2\" atomName2=\"C11\"/><Bond atomName1=\"C4\" atomName2=\"H1\"/><Bond atomName1=\"C5\" atomName2=\"H2\"/><Bond atomName1=\"C6\" atomName2=\"H3\"/><Bond atomName1=\"C7\" atomName2=\"H4\"/><Bond atomName1=\"C9\" atomName2=\"H5\"/><Bond atomName1=\"C10\" atomName2=\"H6\"/><Bond atomName1=\"C11\" atomName2=\"H7\"/><Bond atomName1=\"C11\" atomName2=\"H8\"/><Bond atomName1=\"C3\" atomName2=\"C8\"/><Bond atomName1=\"C6\" atomName2=\"C7\"/><Bond atomName1=\"C4\" atomName2=\"C5\"/><Bond atomName1=\"C7\" atomName2=\"C8\"/><Bond atomName1=\"C5\" atomName2=\"C6\"/><Bond atomName1=\"C3\" atomName2=\"C4\"/><Bond atomName1=\"O1\" atomName2=\"H9\"/></State>\r\n",
      "      </Protons>\r\n",
      "    </Residue>\r\n",
      "  </Residues>\r\n",
      "  <AtomTypes>\r\n",
      "    <Type name=\"d_H8_hc\" class=\"d_H8_hc\" charge=\"0\" element=\"H\" mass=\"1.008\"/>\r\n",
      "    <Type name=\"d_H9_ho\" class=\"d_H9_ho\" charge=\"0\" element=\"H\" mass=\"1.008\"/>\r\n",
      "  </AtomTypes>\r\n",
      "  <HarmonicBondForce>\r\n",
      "    <Bond type1=\"ca\" type2=\"d_H8_hc\" length=\"0.10969\" k=\"276646.08\"/>\r\n",
      "    <Bond type1=\"o\" type2=\"d_H9_ho\" length=\"0.0973\" k=\"310787.52\"/>\r\n",
      "  </HarmonicBondForce>\r\n",
      "  <HarmonicAngleForce>\r\n",
      "    <Angle type1=\"c\" type2=\"o\" type3=\"d_H9_ho\" angle=\"1.89507850182\" k=\"410.032\"/>\r\n",
      "    <Angle type1=\"ca\" type2=\"ca\" type3=\"d_H8_hc\" angle=\"1.89839462739\" k=\"392.71024\"/>\r\n",
      "    <Angle type1=\"ca\" type2=\"ca\" type3=\"d_H8_hc\" angle=\"1.9261453625\" k=\"393.21232\"/>\r\n",
      "    <Angle type1=\"ha\" type2=\"ca\" type3=\"d_H8_hc\" angle=\"1.8776252093\" k=\"329.6992\"/>\r\n",
      "    <Angle type1=\"ca\" type2=\"ca\" type3=\"d_H8_hc\" angle=\"1.89839462739\" k=\"392.71024\"/>\r\n",
      "    <Angle type1=\"ca\" type2=\"ca\" type3=\"d_H8_hc\" angle=\"1.9261453625\" k=\"393.21232\"/>\r\n",
      "    <Angle type1=\"ha\" type2=\"ca\" type3=\"d_H8_hc\" angle=\"1.8776252093\" k=\"329.6992\"/>\r\n",
      "  </HarmonicAngleForce>\r\n",
      "  <PeriodicTorsionForce>\r\n",
      "    <Proper type1=\"ca\" type2=\"ca\" type3=\"ce\" type4=\"c2\" periodicity1=\"2\" phase1=\"3.141592653589793\" k1=\"2.9288\"/>\r\n",
      "    <Proper type1=\"ca\" type2=\"ca\" type3=\"ce\" type4=\"ha\" periodicity1=\"2\" phase1=\"3.141592653589793\" k1=\"2.9288\"/>\r\n",
      "    <Improper type1=\"c\" type2=\"c3\" type3=\"ca\" type4=\"o\" periodicity1=\"2\" phase1=\"3.141592653589793\" k1=\"43.932\"/>\r\n",
      "    <Improper type1=\"ca\" type2=\"c\" type3=\"ca\" type4=\"ca\" periodicity1=\"2\" phase1=\"3.141592653589793\" k1=\"4.6024\"/>\r\n",
      "    <Improper type1=\"ca\" type2=\"ca\" type3=\"ca\" type4=\"ha\" periodicity1=\"2\" phase1=\"3.141592653589793\" k1=\"4.6024\"/>\r\n",
      "    <Improper type1=\"ca\" type2=\"ca\" type3=\"ca\" type4=\"ce\" periodicity1=\"2\" phase1=\"3.141592653589793\" k1=\"4.6024\"/>\r\n",
      "    <Improper type1=\"ce\" type2=\"c2\" type3=\"ca\" type4=\"ha\" periodicity1=\"2\" phase1=\"3.141592653589793\" k1=\"4.6024\"/>\r\n",
      "    <Improper type1=\"c2\" type2=\"c3\" type3=\"ce\" type4=\"ha\" periodicity1=\"2\" phase1=\"3.141592653589793\" k1=\"4.6024\"/>\r\n",
      "    <Improper type1=\"ca\" type2=\"ca\" type3=\"ca\" type4=\"oh\" periodicity1=\"2\" phase1=\"3.141592653589793\" k1=\"4.6024\"/>\r\n",
      "    <Improper type1=\"ca\" type2=\"ca\" type3=\"ca\" type4=\"ca\" periodicity1=\"2\" phase1=\"3.141592653589793\" k1=\"4.6024\"/>\r\n",
      "    <Proper type1=\"ca\" type2=\"c\" type3=\"o\" type4=\"o\" periodicity1=\"2\" phase1=\"3.14159265359\" k1=\"3.7656\"/>\r\n",
      "    <Proper type1=\"ca\" type2=\"ca\" type3=\"ca\" type4=\"ca\" periodicity1=\"2\" phase1=\"3.14159265359\" k1=\"0.0\"/>\r\n",
      "    <Proper type1=\"ca\" type2=\"ca\" type3=\"ca\" type4=\"ca\" periodicity1=\"2\" phase1=\"3.14159265359\" k1=\"3.3472\"/>\r\n",
      "    <Proper type1=\"ca\" type2=\"ca\" type3=\"ca\" type4=\"ca\" periodicity1=\"2\" phase1=\"0.0\" k1=\"0.0\"/>\r\n",
      "    <Proper type1=\"ha\" type2=\"ca\" type3=\"ca\" type4=\"ca\" periodicity1=\"2\" phase1=\"0.0\" k1=\"0.0\"/>\r\n",
      "    <Proper type1=\"oh\" type2=\"ca\" type3=\"ca\" type4=\"ca\" periodicity1=\"2\" phase1=\"3.14159265359\" k1=\"0.0\"/>\r\n",
      "    <Proper type1=\"ca\" type2=\"ca\" type3=\"ca\" type4=\"ca\" periodicity1=\"2\" phase1=\"3.14159265359\" k1=\"0.0\"/>\r\n",
      "    <Proper type1=\"ca\" type2=\"ca\" type3=\"ca\" type4=\"ca\" periodicity1=\"2\" phase1=\"3.14159265359\" k1=\"3.3472\"/>\r\n",
      "    <Proper type1=\"ca\" type2=\"ca\" type3=\"ca\" type4=\"ca\" periodicity1=\"2\" phase1=\"0.0\" k1=\"0.0\"/>\r\n",
      "    <Proper type1=\"ha\" type2=\"ca\" type3=\"ca\" type4=\"ca\" periodicity1=\"2\" phase1=\"0.0\" k1=\"0.0\"/>\r\n",
      "  </PeriodicTorsionForce>\r\n",
      "  <NonbondedForce coulomb14scale=\"0.833333333333\" lj14scale=\"0.5\">\r\n",
      "    <Atom type=\"d_H8_hc\" sigma=\"0\" epsilon=\"0\" charge=\"0\"/>\r\n",
      "    <Atom type=\"d_H9_ho\" sigma=\"0\" epsilon=\"0\" charge=\"0\"/>\r\n",
      "  </NonbondedForce>\r\n",
      "</ForceField>\r\n"
     ]
    }
   ],
   "source": [
    "% cat tautomer_pair_mol1.ffxml"
   ]
  },
  {
   "cell_type": "code",
   "execution_count": 5,
   "metadata": {},
   "outputs": [
    {
     "name": "stdout",
     "output_type": "stream",
     "text": [
      "<Residues>\r\n",
      "  <Residue name=\"UNL\">\r\n",
      "    <H name=\"H1\" parent=\"C4\"/>\r\n",
      "    <H name=\"H2\" parent=\"C5\"/>\r\n",
      "    <H name=\"H3\" parent=\"C6\"/>\r\n",
      "    <H name=\"H4\" parent=\"C7\"/>\r\n",
      "    <H name=\"H5\" parent=\"C9\"/>\r\n",
      "    <H name=\"H6\" parent=\"C10\"/>\r\n",
      "    <H name=\"H7\" parent=\"C11\"/>\r\n",
      "    <H name=\"H8\" parent=\"C11\"/>\r\n",
      "    <H name=\"H9\" parent=\"O1\"/>\r\n",
      "  </Residue>\r\n",
      "</Residues>\r\n"
     ]
    }
   ],
   "source": [
    "% cat tautomer_pair_mol1.hxml"
   ]
  },
  {
   "cell_type": "code",
   "execution_count": 6,
   "metadata": {},
   "outputs": [
    {
     "name": "stdout",
     "output_type": "stream",
     "text": [
      "@<TRIPOS>MOLECULE\r\n",
      "UNL\r\n",
      "   19    20     0     0     0\r\n",
      "SMALL\r\n",
      "USER_CHARGES\r\n",
      "\r\n",
      "@<TRIPOS>ATOM\r\n",
      "      1 O1          1.2387   -6.9661    0.0083 O.2       1 <0>        -0.2917\r\n",
      "      2 C2          0.7349   -5.8181   -0.0001 C.2       1 <0>         0.1674\r\n",
      "      3 C3         -0.6786   -5.6175   -0.0021 C.ar      1 <0>         0.0248\r\n",
      "      4 C4         -1.5965   -6.6976    0.0258 C.ar      1 <0>        -0.0507\r\n",
      "      5 C5         -2.9830   -6.4607    0.0187 C.ar      1 <0>        -0.0611\r\n",
      "      6 C6         -3.4718   -5.1455   -0.0167 C.ar      1 <0>        -0.0612\r\n",
      "      7 C7         -2.5767   -4.0634   -0.0431 C.ar      1 <0>        -0.0539\r\n",
      "      8 C8         -1.1786   -4.2827   -0.0336 C.ar      1 <0>        -0.0148\r\n",
      "      9 C9         -0.3005   -3.1974   -0.0506 C.2       1 <0>        -0.0574\r\n",
      "     10 C10         1.0326   -3.3554   -0.0335 C.2       1 <0>        -0.0760\r\n",
      "     11 C11         1.6728   -4.6623   -0.0125 C.3       1 <0>         0.0290\r\n",
      "     12 H1         -1.2662   -7.6643    0.0515 H         1 <0>         0.0625\r\n",
      "     13 H2         -3.6379   -7.2461    0.0391 H         1 <0>         0.0618\r\n",
      "     14 H3         -4.4810   -4.9738   -0.0221 H         1 <0>         0.0618\r\n",
      "     15 H4         -2.9579   -3.1131   -0.0682 H         1 <0>         0.0624\r\n",
      "     16 H5         -0.6620   -2.2708   -0.0740 H         1 <0>         0.0621\r\n",
      "     17 H6          1.6126   -2.5477   -0.0368 H         1 <0>         0.0576\r\n",
      "     18 H7          2.3096   -4.7397   -0.8952 H         1 <0>         0.0388\r\n",
      "     19 H8          2.3099   -4.7176    0.8719 H         1 <0>         0.0388\r\n",
      "@<TRIPOS>BOND\r\n",
      "     1    1    2 2\r\n",
      "     2    2    3 1\r\n",
      "     3    8    9 1\r\n",
      "     4    9   10 2\r\n",
      "     5   10   11 1\r\n",
      "     6    2   11 1\r\n",
      "     7    4   12 1\r\n",
      "     8    5   13 1\r\n",
      "     9    6   14 1\r\n",
      "    10    7   15 1\r\n",
      "    11    9   16 1\r\n",
      "    12   10   17 1\r\n",
      "    13   11   18 1\r\n",
      "    14   11   19 1\r\n",
      "    15    3    8 ar\r\n",
      "    16    6    7 ar\r\n",
      "    17    4    5 ar\r\n",
      "    18    7    8 ar\r\n",
      "    19    5    6 ar\r\n",
      "    20    3    4 ar\r\n",
      "@<TRIPOS>MOLECULE\r\n",
      "UNL\r\n",
      "   19    20     0     0     0\r\n",
      "SMALL\r\n",
      "USER_CHARGES\r\n",
      "\r\n",
      "@<TRIPOS>ATOM\r\n",
      "      1 O1         -0.9298   -1.3820   -0.3894 O.3       1 <0>        -0.5062\r\n",
      "      2 C2         -1.5834   -0.2180   -0.3458 C.ar      1 <0>         0.1245\r\n",
      "      3 C3         -2.6349   -0.0269    0.5733 C.ar      1 <0>         0.0236\r\n",
      "      4 C4         -3.0404   -1.0243    1.4915 C.ar      1 <0>        -0.0505\r\n",
      "      5 C5         -4.1036   -0.7854    2.3818 C.ar      1 <0>        -0.0611\r\n",
      "      6 C6         -4.7753    0.4485    2.3687 C.ar      1 <0>        -0.0612\r\n",
      "      7 C7         -4.3881    1.4522    1.4624 C.ar      1 <0>        -0.0539\r\n",
      "      8 C8         -3.3206    1.2237    0.5631 C.ar      1 <0>        -0.0144\r\n",
      "      9 C9         -2.9138    2.1970   -0.3507 C.ar      1 <0>        -0.0538\r\n",
      "     10 C10        -1.8958    1.9464   -1.1981 C.ar      1 <0>        -0.0577\r\n",
      "     11 C11        -1.2187    0.7492   -1.2225 C.ar      1 <0>        -0.0196\r\n",
      "     12 H1         -2.5715   -1.9329    1.5202 H         1 <0>         0.0625\r\n",
      "     13 H2         -4.3890   -1.5142    3.0416 H         1 <0>         0.0618\r\n",
      "     14 H3         -5.5469    0.6171    3.0198 H         1 <0>         0.0618\r\n",
      "     15 H4         -4.8906    2.3450    1.4656 H         1 <0>         0.0624\r\n",
      "     16 H5         -3.3702    3.0816   -0.3851 H         1 <0>         0.0624\r\n",
      "     17 H6         -1.6262    2.6630   -1.8374 H         1 <0>         0.0619\r\n",
      "     18 H9         -0.2515   -1.3208    0.3152 H         1 <0>         0.2922\r\n",
      "     19 H7         -0.4057    0.5697   -1.9259 H         1 <0>         0.0654\r\n",
      "@<TRIPOS>BOND\r\n",
      "     1    2    3 ar\r\n",
      "     2    8    9 ar\r\n",
      "     3    9   10 ar\r\n",
      "     4   10   11 ar\r\n",
      "     5    4   12 1\r\n",
      "     6    5   13 1\r\n",
      "     7    6   14 1\r\n",
      "     8    7   15 1\r\n",
      "     9    9   16 1\r\n",
      "    10   10   17 1\r\n",
      "    11    3    8 ar\r\n",
      "    12    6    7 ar\r\n",
      "    13    4    5 ar\r\n",
      "    14    7    8 ar\r\n",
      "    15    5    6 ar\r\n",
      "    16    3    4 ar\r\n",
      "    17    1   18 1\r\n",
      "    18    1    2 1\r\n",
      "    19    2   11 ar\r\n",
      "    20   11   19 1\r\n"
     ]
    }
   ],
   "source": [
    "% cat tautomer_pair_mol1_fixed_hydrogens.mol2"
   ]
  },
  {
   "cell_type": "code",
   "execution_count": null,
   "metadata": {},
   "outputs": [],
   "source": []
  }
 ],
 "metadata": {
  "kernelspec": {
   "display_name": "Python 3",
   "language": "python",
   "name": "python3"
  },
  "language_info": {
   "codemirror_mode": {
    "name": "ipython",
    "version": 3
   },
   "file_extension": ".py",
   "mimetype": "text/x-python",
   "name": "python",
   "nbconvert_exporter": "python",
   "pygments_lexer": "ipython3",
   "version": "3.6.5"
  }
 },
 "nbformat": 4,
 "nbformat_minor": 2
}
