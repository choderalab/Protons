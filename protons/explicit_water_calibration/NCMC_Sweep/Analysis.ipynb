{
 "cells": [
  {
   "cell_type": "code",
   "execution_count": 1,
   "metadata": {
    "collapsed": true
   },
   "outputs": [],
   "source": [
    "import numpy as np\n",
    "from matplotlib import pylab as plt\n",
    "%matplotlib inline"
   ]
  },
  {
   "cell_type": "markdown",
   "metadata": {},
   "source": [
    "# Plotting the NCMC acceptance rate for HIP in explicit solvent"
   ]
  },
  {
   "cell_type": "markdown",
   "metadata": {},
   "source": [
    "Seeing how the number of NCMC perturbations affects the acceptance rate of HIP (the AMBER name for fully protonated histidine) for constant-pH simulations with `protons`.\n",
    "\n",
    "The list below shows the number of NCMC perturbation steps that were used. Each perturbation step is followed by 1fs of dynamics. For example, 10000 perturbation steps means that the simulation time for NCMC protocol is 10ps."
   ]
  },
  {
   "cell_type": "code",
   "execution_count": 2,
   "metadata": {
    "collapsed": true
   },
   "outputs": [],
   "source": [
    "nperts = [0, 100, 1000, 5000, 10000, 20000, 30000, 50000, 75000]"
   ]
  },
  {
   "cell_type": "markdown",
   "metadata": {},
   "source": [
    "Loading the data from the simulations and plotting the acceptance rate. The data reported is from 500 iterations of molecular dynamics and `protons` steps. A single iteration consisted of 500 steps of MD (with a 2fs timestep) and 1 proton insertion deletion attempt using NCMC."
   ]
  },
  {
   "cell_type": "code",
   "execution_count": 4,
   "metadata": {
    "collapsed": false
   },
   "outputs": [
    {
     "data": {
      "image/png": "[encoded data removed]",
      "text/plain": [
       "<matplotlib.figure.Figure at 0x10e8ecad0>"
      ]
     },
     "metadata": {},
     "output_type": "display_data"
    }
   ],
   "source": [
    "# Reading the simulation data\n",
    "accprob_mean = []      # where the acceptance will be stored\n",
    "accprob_sd = []\n",
    "for p in nperts:\n",
    "    a = []\n",
    "    for repeat in ('out', 'out1', 'out2', 'out3'):\n",
    "        try:\n",
    "            filename = str(p) + '_ncmc_steps/' + repeat + '.txt'\n",
    "            lines = open(filename,'r').readlines()\n",
    "            a.append(float(lines[-1].split()[2]))\n",
    "        except IOError:\n",
    "            pass\n",
    "    a = np.array(a)\n",
    "    accprob_mean.append(a.mean())\n",
    "    accprob_sd.append(a.std())\n",
    "    \n",
    "# Plotting\n",
    "plt.errorbar(nperts, accprob_mean, yerr=accprob_sd, fmt='o', color='k')\n",
    "plt.title('NCMC acceptance rates for histidine', fontsize=16)\n",
    "plt.xlabel('Number of NCMC perturbations', fontsize=14)\n",
    "plt.ylabel('Acceptance probability', fontsize=14)\n",
    "plt.xlim((-1000,nperts[-1]+1000))\n",
    "plt.show()"
   ]
  },
  {
   "cell_type": "code",
   "execution_count": null,
   "metadata": {
    "collapsed": true
   },
   "outputs": [],
   "source": []
  }
 ],
 "metadata": {
  "kernelspec": {
   "display_name": "Python 2",
   "language": "python",
   "name": "python2"
  },
  "language_info": {
   "codemirror_mode": {
    "name": "ipython",
    "version": 2
   },
   "file_extension": ".py",
   "mimetype": "text/x-python",
   "name": "python",
   "nbconvert_exporter": "python",
   "pygments_lexer": "ipython2",
   "version": "2.7.11"
  }
 },
 "nbformat": 4,
 "nbformat_minor": 0
}
