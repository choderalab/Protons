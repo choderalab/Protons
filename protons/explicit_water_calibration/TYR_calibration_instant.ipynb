{
 "cells": [
  {
   "cell_type": "markdown",
   "metadata": {},
   "source": [
    "# Example of using SAMS to calibrate TYR\n",
    "Notebook to explore the calibration of TYR method of `protons` in **implicit** solvent with **instant** protonation state exchanges."
   ]
  },
  {
   "cell_type": "code",
   "execution_count": 1,
   "metadata": {
    "collapsed": false
   },
   "outputs": [],
   "source": [
    "from __future__ import print_function\n",
    "from simtk import unit, openmm\n",
    "from simtk.openmm import app\n",
    "from protons import AmberProtonDrive\n",
    "from protons.calibration import SelfAdjustedMixtureSampling, AmberCalibrationSystem\n",
    "import openmmtools\n",
    "import numpy as np\n",
    "from matplotlib import pylab as plt\n",
    "%matplotlib inline"
   ]
  },
  {
   "cell_type": "markdown",
   "metadata": {},
   "source": [
    "## Method 1. Calibration using `AmberCalibrationSystem`"
   ]
  },
  {
   "cell_type": "code",
   "execution_count": 2,
   "metadata": {
    "collapsed": true
   },
   "outputs": [],
   "source": [
    "def prepare_calibrator(prmtop, inpcrd, cpin, temperature=300.0*unit.kelvin, pH = 7.0, platform='CPU', nsteps=0, implicit=True):\n",
    "    \"\"\"\n",
    "    Function to prepare an `AmberCalibrationSystem` from a system specified by AMBER topology files.\n",
    "\n",
    "    Parameters\n",
    "    ----------\n",
    "    prmtop: str\n",
    "        the name of the AMBER prmtop file\n",
    "    inpcrd: str\n",
    "        the name of the AMBER inpcrd file\n",
    "    cpin: str\n",
    "        the name of the AMBER cpin file\n",
    "    pH: float\n",
    "        the pH at which the calibration will be performed\n",
    "    platform: str\n",
    "        OpenMM platform with which the simulation will be performed. Choices are 'CPU' or 'OpenCL'\n",
    "    nsteps: int\n",
    "        The number of NCMC steps to perform for proton creation/annihilation. If nstesp=0, instant exchanges will be done.\n",
    "    implicit: bool\n",
    "        Whether to calibrated in implicit or explicit solvent\n",
    "\n",
    "    Return\n",
    "    ------\n",
    "    calibration_system: protons.AmberCalibrationSystem\n",
    "        The AmberCalibrationSystem object for the last residue in the topology\n",
    "    \"\"\"\n",
    "    #### Reading in AMBER topologies system and initializing driver\n",
    "    # The purpose of this section is to load the system to use it as the input for AmberCalibrationSystem\n",
    "    prmtop = app.AmberPrmtopFile(prmtop)\n",
    "    inpcrd = app.AmberInpcrdFile(inpcrd)\n",
    "    positions = inpcrd.getPositions()\n",
    "    topology = prmtop.topology\n",
    "    # Create system\n",
    "    if implicit == True:\n",
    "        system = prmtop.createSystem(implicitSolvent=app.OBC2, nonbondedMethod=app.NoCutoff, constraints=app.HBonds)\n",
    "    else:\n",
    "        system = prmtop.createSystem(nonbondedMethod=app.PME, constraints=app.HBonds)\n",
    "    # Create protons integrator\n",
    "    integrator = openmm.LangevinIntegrator(temperature, 1.0/unit.picoseconds, 2.0*unit.femtoseconds)\n",
    "    # Create protons proton driver\n",
    "    driver = AmberProtonDrive(system, temperature, pH, prmtop, cpin, integrator, debug=False,\n",
    "                              pressure=None, ncmc_steps_per_trial=nsteps, implicit=implicit)\n",
    "    #### System loaded and driver initialized\n",
    "    \n",
    "    #### Section to initialize the SAMS calibration object\n",
    "    # Create the calibration system\n",
    "    resname_per_index, unique_residuenames = driver._detect_residues(AmberCalibrationSystem.supported_aminoacids)\n",
    "    g_k = {key: None for (key) in unique_residuenames}\n",
    "    \n",
    "    calibration_settings = dict()\n",
    "    calibration_settings[\"temperature\"] = temperature\n",
    "    # index 0 Should be the user integrator\n",
    "    calibration_settings[\"timestep\"] = driver.compound_integrator.getIntegrator(0).getStepSize()\n",
    "    calibration_settings[\"pressure\"] = driver.pressure\n",
    "    calibration_settings[\"pH\"] = driver.pH\n",
    "    calibration_settings[\"solvent\"] = driver.solvent\n",
    "    calibration_settings[\"nsteps_per_trial\"] = driver.nsteps_per_trial\n",
    "    calibration_settings[\"platform_name\"] = platform\n",
    "    \n",
    "    for residuename in unique_residuenames:\n",
    "        # This sets up a system for calibration, with a SAMS sampler under the hood.\n",
    "        calibration_system = AmberCalibrationSystem(residuename, calibration_settings, guess_free_energy=g_k[residuename])\n",
    "\n",
    "    # For the purpose of this test function, only the last calibration object is returned.\n",
    "    return calibration_system"
   ]
  },
  {
   "cell_type": "markdown",
   "metadata": {},
   "source": [
    "To calibrate TYR, the following cell is based on the code found in the function in `AmberCalibrationSystem.sams_till_converged`. \n",
    "\n",
    "The below is an attempt to calibrate TYR in implicit solvent with instantanesous proton creation/annihilation."
   ]
  },
  {
   "cell_type": "code",
   "execution_count": 3,
   "metadata": {
    "collapsed": false
   },
   "outputs": [],
   "source": [
    "cal = prepare_calibrator('tyr_implicit.prmtop','tyr_implicit.inpcrd','tyr_implicit.cpin')\n",
    "\n",
    "# Calibration counters\n",
    "gk_updates = 0\n",
    "iteration = 0\n",
    "\n",
    "# Update frequencies\n",
    "mc_every = 10\n",
    "gk_every = 1\n",
    "N = 1000\n",
    "\n",
    "# SAMS parameters\n",
    "scheme = 'binary'\n",
    "stage = \"slow-gain\"\n",
    "end_of_burnin = int(N/2)\n",
    "b = 0.5\n",
    "\n",
    "# Output data\n",
    "weights = []\n",
    "deviation = []\n",
    "for i in range(N):\n",
    "    # Regular MD\n",
    "    cal.integrator.step(mc_every)\n",
    "    iteration += 1\n",
    "\n",
    "    # Attempt changing the protonation/tautomer state\n",
    "    cal.sams_sampler.driver.update(cal.context)\n",
    "    \n",
    "    # Update gk using SAMS\n",
    "    if iteration % gk_every == 0:\n",
    "        target_deviation = cal.sams_sampler.adapt_zetas(cal.context, stage=stage, end_of_burnin=end_of_burnin, b=b, scheme=scheme)\n",
    "        gk_updates += 1\n",
    "        deviation.append(target_deviation)\n",
    "        \n",
    "        # We sample uniformly with SAMS, so we need to subtract log pi_j's from the g_k to get our targets.    \n",
    "        g_k_uniform = cal.sams_sampler.get_gk()\n",
    "        g_k = g_k_uniform - cal.log_state_probabilities\n",
    "        weights.append(g_k)"
   ]
  },
  {
   "cell_type": "markdown",
   "metadata": {},
   "source": [
    "Plotting"
   ]
  },
  {
   "cell_type": "code",
   "execution_count": 4,
   "metadata": {
    "collapsed": false
   },
   "outputs": [
    {
     "data": {
      "image/png": "[encoded data removed]",
      "text/plain": [
       "<matplotlib.figure.Figure at 0x10508cad0>"
      ]
     },
     "metadata": {},
     "output_type": "display_data"
    },
    {
     "data": {
      "image/png": "[encoded data removed]",
      "text/plain": [
       "<matplotlib.figure.Figure at 0x113833650>"
      ]
     },
     "metadata": {},
     "output_type": "display_data"
    }
   ],
   "source": [
    "plt.plot(np.arange(N), deviation)\n",
    "plt.xlabel('Stage')\n",
    "plt.ylabel('Absolute deviation from target weight')\n",
    "plt.title('SAMS convergence. Example 1')\n",
    "plt.show()\n",
    "\n",
    "g_k = [w[1] for w in weights]\n",
    "plt.plot(np.arange(N), g_k)\n",
    "plt.xlabel('Stage')\n",
    "plt.ylabel('SAMs weight')\n",
    "plt.title('SAMS convergence. Example 1')\n",
    "plt.show()"
   ]
  },
  {
   "cell_type": "markdown",
   "metadata": {},
   "source": [
    "Something is very wrong with the calibration. \n",
    "\n",
    "Trying a different way to calibrate the system below."
   ]
  },
  {
   "cell_type": "markdown",
   "metadata": {},
   "source": [
    "## Method 2. Calibration using `SelfAdjustedMixtureSampling` directly"
   ]
  },
  {
   "cell_type": "code",
   "execution_count": 5,
   "metadata": {
    "collapsed": true
   },
   "outputs": [],
   "source": [
    "def prepare_system(prmtop, inpcrd, cpin, pH = 7.0, platform='CPU', nsteps=0, implicit=True):\n",
    "    \"\"\"\n",
    "    Function to prepare a system specified by AMBER topology files for a constant-ph calibration simulation with protons.\n",
    "    Calibration is performed with self adjusted mixture sampling (SAMS).\n",
    "\n",
    "    Parameters\n",
    "    ----------\n",
    "    prmtop: str\n",
    "        the name of the AMBER prmtop file\n",
    "    inpcrd: str\n",
    "        the name of the AMBER inpcrd file\n",
    "    cpin: str\n",
    "        the name of the AMBER cpin file\n",
    "    pH: float\n",
    "        the pH at which the calibration will be performed\n",
    "    platform: str\n",
    "        OpenMM platform with which the simulation will be performed. Choices are 'CPU' or 'OpenCL'\n",
    "    nsteps: int\n",
    "        The number of NCMC steps to perform for proton creation/annihilation. If nstesp=0, instant exchanges will be done.\n",
    "    implicit: bool\n",
    "        Whether to calibrated in implicit or explicit solvent\n",
    "\n",
    "    Return\n",
    "    ------\n",
    "    simulation: simtk.openmm.Simulation\n",
    "        OpenMM simulation object\n",
    "    driver: protons.AmberProtonDrive\n",
    "        Driver for constant pH simulation\n",
    "    sams_sampler: protons.SelfAdjustedMixtureSampling\n",
    "        Wrapper for calibrating with SAMS\n",
    "    integrator:  simtk.openmm.integrator\n",
    "        Integrator for sampling the configuration of the system\n",
    "    \"\"\"\n",
    "    # Loading system and initializing driver\n",
    "    temperature = 300.0*unit.kelvin\n",
    "    prmtop = app.AmberPrmtopFile(prmtop)\n",
    "    inpcrd = app.AmberInpcrdFile(inpcrd)\n",
    "    positions = inpcrd.getPositions()\n",
    "    topology = prmtop.topology\n",
    "    # Create system\n",
    "    if implicit == True:\n",
    "        system = prmtop.createSystem(implicitSolvent=app.OBC2, nonbondedMethod=app.NoCutoff, constraints=app.HBonds)\n",
    "    else:\n",
    "        system = prmtop.createSystem(nonbondedMethod=app.PME, constraints=app.HBonds)\n",
    "    # Create protons integrator\n",
    "    integrator = openmm.LangevinIntegrator(temperature, 1.0/unit.picoseconds, 2.0*unit.femtoseconds)\n",
    "    # Create protons proton driver\n",
    "    driver = AmberProtonDrive(system, temperature, pH, prmtop, cpin, integrator, debug=False,\n",
    "                              pressure=None, ncmc_steps_per_trial=nsteps, implicit=implicit)\n",
    "    # Create SAMS sampler\n",
    "    sams_sampler = SelfAdjustedMixtureSampling(driver)\n",
    "    # Create simulation\n",
    "    if platform == 'OpenCL':\n",
    "        platform = openmm.Platform.getPlatformByName('OpenCL')\n",
    "        properties = {'OpenCLPrecision': 'mixed'}\n",
    "        simulation = app.Simulation(topology, system, driver.compound_integrator, platform, properties)\n",
    "    else:\n",
    "        simulation = app.Simulation(topology, system, driver.compound_integrator)\n",
    "    simulation.context.setPositions(positions)\n",
    "    simulation.context.setVelocitiesToTemperature(temperature)\n",
    "    return simulation, driver, sams_sampler, integrator"
   ]
  },
  {
   "cell_type": "markdown",
   "metadata": {},
   "source": [
    "Below is another attempt to calibrate TYR in implicit solvent with instantanesous proton creation/annihilation."
   ]
  },
  {
   "cell_type": "code",
   "execution_count": 6,
   "metadata": {
    "collapsed": false
   },
   "outputs": [
    {
     "name": "stdout",
     "output_type": "stream",
     "text": [
      "SAMS Weights = [ 0.          0.85483908]\n"
     ]
    },
    {
     "data": {
      "image/png": "[encoded data removed]",
      "text/plain": [
       "<matplotlib.figure.Figure at 0x10508cd10>"
      ]
     },
     "metadata": {},
     "output_type": "display_data"
    },
    {
     "data": {
      "image/png": "[encoded data removed]",
      "text/plain": [
       "<matplotlib.figure.Figure at 0x115778bd0>"
      ]
     },
     "metadata": {},
     "output_type": "display_data"
    }
   ],
   "source": [
    "simulation, driver, sams_sampler, integrator = prepare_system('tyr_implicit.prmtop','tyr_implicit.inpcrd','tyr_implicit.cpin', platform='CPU')\n",
    "simulation.minimizeEnergy(maxIterations=1000)\n",
    "\n",
    "deviation = []    # The deviation between the target weight and actual counts\n",
    "weights = []      # The bias applied by SAMS to reach target weight\n",
    "N = 500\n",
    "for i in range(N):\n",
    "    integrator.step(10)\n",
    "    sams_sampler.driver.update(simulation.context)  # protonation\n",
    "    deviation.append(sams_sampler.adapt_zetas(simulation.context, 'binary', end_of_burnin=N/2))\n",
    "    weights.append(sams_sampler.get_gk())\n",
    "print('SAMS Weights =',sams_sampler.get_gk())\n",
    "\n",
    "plt.clf()\n",
    "plt.plot(np.arange(N), deviation)\n",
    "plt.xlabel('Stage')\n",
    "plt.ylabel('Absolute deviation from target weight')\n",
    "plt.title('SAMS convergence. Example 2')\n",
    "plt.show() \n",
    "\n",
    "g_k = [w[1] for w in weights]\n",
    "plt.plot(np.arange(N), g_k)\n",
    "plt.xlabel('Stage')\n",
    "plt.ylabel('SAMs weight')\n",
    "plt.title('SAMS convergence. Example 2')\n",
    "plt.show()"
   ]
  },
  {
   "cell_type": "markdown",
   "metadata": {},
   "source": [
    "Again, something is very wrong."
   ]
  },
  {
   "cell_type": "code",
   "execution_count": null,
   "metadata": {
    "collapsed": true
   },
   "outputs": [],
   "source": []
  }
 ],
 "metadata": {
  "kernelspec": {
   "display_name": "Python 2",
   "language": "python",
   "name": "python2"
  },
  "language_info": {
   "codemirror_mode": {
    "name": "ipython",
    "version": 2
   },
   "file_extension": ".py",
   "mimetype": "text/x-python",
   "name": "python",
   "nbconvert_exporter": "python",
   "pygments_lexer": "ipython2",
   "version": "2.7.11"
  }
 },
 "nbformat": 4,
 "nbformat_minor": 0
}
